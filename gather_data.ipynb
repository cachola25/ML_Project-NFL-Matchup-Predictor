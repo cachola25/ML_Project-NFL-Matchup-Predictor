{
 "cells": [
  {
   "cell_type": "code",
   "execution_count": 4,
   "id": "1d4c15fc",
   "metadata": {},
   "outputs": [],
   "source": [
    "from urllib.parse import urlparse, unquote # to process a URL and get the filename\n",
    "from bs4 import BeautifulSoup # to parse the HTML\n",
    "from tqdm import tqdm # to create the progress bar\n",
    "import pandas as pd # to read in the spreadsheet\n",
    "import requests # to make the request to the website\n",
    "import os # to get directory information\n",
    "import subprocess # to run shell commands"
   ]
  },
  {
   "cell_type": "markdown",
   "id": "02e2f88e",
   "metadata": {},
   "source": []
  }
 ],
 "metadata": {
  "kernelspec": {
   "display_name": ".venv",
   "language": "python",
   "name": "python3"
  },
  "language_info": {
   "codemirror_mode": {
    "name": "ipython",
    "version": 3
   },
   "file_extension": ".py",
   "mimetype": "text/x-python",
   "name": "python",
   "nbconvert_exporter": "python",
   "pygments_lexer": "ipython3",
   "version": "3.13.1"
  }
 },
 "nbformat": 4,
 "nbformat_minor": 5
}
