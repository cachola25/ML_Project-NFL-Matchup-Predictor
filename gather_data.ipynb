{
 "cells": [
  {
   "cell_type": "code",
   "execution_count": 1,
   "id": "1d4c15fc",
   "metadata": {},
   "outputs": [],
   "source": [
    "\n",
    "from urllib.parse import urlparse, unquote # to process a URL and get the filename\n",
    "from bs4 import BeautifulSoup # to parse the HTML\n",
    "from tqdm import tqdm # to create the progress bar\n",
    "import pandas as pd # to read in the spreadsheet\n",
    "import requests # to make the request to the website\n",
    "import os # to get directory information\n",
    "import subprocess # to run shell commands\n",
    "import json \n",
    "import nflscraPy\n",
    "import time"
   ]
  },
  {
   "cell_type": "code",
   "execution_count": 3,
   "id": "02e2f88e",
   "metadata": {},
   "outputs": [],
   "source": [
    "with open('config.json', 'r') as f:\n",
    "    config = json.load(f)\n",
    "\n",
    "data_folder = config['data_folder']\n",
    "start_year = config['start_year']\n",
    "end_year   = config['end_year']\n",
    "\n",
    "for season in range(start_year, end_year + 1):\n",
    "    season_str = str(season)\n",
    "    \n",
    "    season_folder = os.path.join(data_folder, season_str)\n",
    "    os.makedirs(season_folder, exist_ok=True)"
   ]
  }
 ],
 "metadata": {
  "kernelspec": {
   "display_name": ".venv",
   "language": "python",
   "name": "python3"
  },
  "language_info": {
   "codemirror_mode": {
    "name": "ipython",
    "version": 3
   },
   "file_extension": ".py",
   "mimetype": "text/x-python",
   "name": "python",
   "nbconvert_exporter": "python",
   "pygments_lexer": "ipython3",
   "version": "3.13.1"
  }
 },
 "nbformat": 4,
 "nbformat_minor": 5
}
